{
 "cells": [
  {
   "cell_type": "markdown",
   "metadata": {},
   "source": [
    "\n",
    "## 2. Язык Julia: работа с таблицами данных"
   ]
  },
  {
   "cell_type": "code",
   "execution_count": 6,
   "metadata": {
    "collapsed": false
   },
   "outputs": [],
   "source": [
    "# Подключение пакетов\n",
    "# Pkg.add(\"RDatasets\")\n",
    "using DataArrays, DataFrames, RDatasets"
   ]
  },
  {
   "cell_type": "markdown",
   "metadata": {},
   "source": [
    "Функции для работы с таблицами данных реализованы в рассмотренном ранее пакете **DataFrames**, который работает поверх пакета **DataArrays**. Последний реализует особый тип данных `NA` для пропущенных значений (которого почему-то нет в языке Julia \"из коробки\", и это первая странность для языка с таким позиционированием), а также массивы `DataArray` - аналоги базовых массивов `Array`, но допускающие наличие пропущенных значений.\n",
    "\n",
    "Наборы данных будем брать из пакета **RDatasets**, куда запакованы классические для изучающих R данные."
   ]
  },
  {
   "cell_type": "markdown",
   "metadata": {},
   "source": [
    "### 2.1. Пропущенные данные\n",
    "\n",
    "Ниже представлены примеры из документации."
   ]
  },
  {
   "cell_type": "code",
   "execution_count": 8,
   "metadata": {
    "collapsed": false
   },
   "outputs": [
    {
     "data": {
      "text/plain": [
       "5-element DataArrays.DataArray{Int32,1}:\n",
       "  NA\n",
       " 3  \n",
       " 2  \n",
       " 5  \n",
       " 4  "
      ]
     },
     "execution_count": 8,
     "metadata": {},
     "output_type": "execute_result"
    }
   ],
   "source": [
    "dv = @data([NA, 3, 2, 5, 4])"
   ]
  },
  {
   "cell_type": "code",
   "execution_count": 10,
   "metadata": {
    "collapsed": false
   },
   "outputs": [
    {
     "data": {
      "text/plain": [
       "NA"
      ]
     },
     "execution_count": 10,
     "metadata": {},
     "output_type": "execute_result"
    }
   ],
   "source": [
    "mean(dv)"
   ]
  },
  {
   "cell_type": "code",
   "execution_count": 11,
   "metadata": {
    "collapsed": false
   },
   "outputs": [
    {
     "data": {
      "text/plain": [
       "3.5"
      ]
     },
     "execution_count": 11,
     "metadata": {},
     "output_type": "execute_result"
    }
   ],
   "source": [
    "# dropna() - функция для удаления пропущенных значений.\n",
    "mean(dropna(dv))"
   ]
  },
  {
   "cell_type": "code",
   "execution_count": 14,
   "metadata": {
    "collapsed": false
   },
   "outputs": [
    {
     "data": {
      "text/plain": [
       "5-element Array{Int32,1}:\n",
       " 11\n",
       "  3\n",
       "  2\n",
       "  5\n",
       "  4"
      ]
     },
     "execution_count": 14,
     "metadata": {},
     "output_type": "execute_result"
    }
   ],
   "source": [
    "# Можно также заменить NA на какое-то число:\n",
    "convert(Array, dv, 11)"
   ]
  },
  {
   "cell_type": "markdown",
   "metadata": {},
   "source": [
    "### 2.2. Создание таблиц данных; работа с факторами\n",
    "\n",
    "Таблицы можно создавать как одной командой, так и последовательным добавлением столбцов."
   ]
  },
  {
   "cell_type": "code",
   "execution_count": 16,
   "metadata": {
    "collapsed": false
   },
   "outputs": [
    {
     "data": {
      "text/html": [
       "<table class=\"data-frame\"><tr><th></th><th>A</th><th>B</th></tr><tr><th>1</th><td>1</td><td>M</td></tr><tr><th>2</th><td>2</td><td>F</td></tr><tr><th>3</th><td>3</td><td>F</td></tr><tr><th>4</th><td>4</td><td>M</td></tr></table>"
      ],
      "text/plain": [
       "4x2 DataFrames.DataFrame\n",
       "| Row | A | B   |\n",
       "|-----|---|-----|\n",
       "| 1   | 1 | \"M\" |\n",
       "| 2   | 2 | \"F\" |\n",
       "| 3   | 3 | \"F\" |\n",
       "| 4   | 4 | \"M\" |"
      ]
     },
     "execution_count": 16,
     "metadata": {},
     "output_type": "execute_result"
    }
   ],
   "source": [
    "df = DataFrame(A = 1:4, B = [\"M\", \"F\", \"F\", \"M\"])"
   ]
  },
  {
   "cell_type": "code",
   "execution_count": 18,
   "metadata": {
    "collapsed": false
   },
   "outputs": [
    {
     "data": {
      "text/html": [
       "<table class=\"data-frame\"><tr><th></th><th>A</th><th>B</th></tr><tr><th>1</th><td>1</td><td>M</td></tr><tr><th>2</th><td>2</td><td>F</td></tr><tr><th>3</th><td>3</td><td>F</td></tr><tr><th>4</th><td>4</td><td>M</td></tr><tr><th>5</th><td>5</td><td>F</td></tr><tr><th>6</th><td>6</td><td>M</td></tr><tr><th>7</th><td>7</td><td>M</td></tr><tr><th>8</th><td>8</td><td>F</td></tr></table>"
      ],
      "text/plain": [
       "8x2 DataFrames.DataFrame\n",
       "| Row | A | B   |\n",
       "|-----|---|-----|\n",
       "| 1   | 1 | \"M\" |\n",
       "| 2   | 2 | \"F\" |\n",
       "| 3   | 3 | \"F\" |\n",
       "| 4   | 4 | \"M\" |\n",
       "| 5   | 5 | \"F\" |\n",
       "| 6   | 6 | \"M\" |\n",
       "| 7   | 7 | \"M\" |\n",
       "| 8   | 8 | \"F\" |"
      ]
     },
     "execution_count": 18,
     "metadata": {},
     "output_type": "execute_result"
    }
   ],
   "source": [
    "df = DataFrame()\n",
    "df[:A] = 1:8\n",
    "df[:B] = [\"M\", \"F\", \"F\", \"M\", \"F\", \"M\", \"M\", \"F\"]\n",
    "df"
   ]
  },
  {
   "cell_type": "markdown",
   "metadata": {},
   "source": [
    "Чтобы узнать количество строк и столбцов, нужно использовать функцию `size()`."
   ]
  },
  {
   "cell_type": "code",
   "execution_count": 21,
   "metadata": {
    "collapsed": false
   },
   "outputs": [
    {
     "data": {
      "text/plain": [
       "(8,2)"
      ]
     },
     "execution_count": 21,
     "metadata": {},
     "output_type": "execute_result"
    }
   ],
   "source": [
    "size(df, 1), size(df, 2)"
   ]
  },
  {
   "cell_type": "markdown",
   "metadata": {},
   "source": [
    "Начало (первые 2 строки) и конец (последние 4 строки) таблицы:"
   ]
  },
  {
   "cell_type": "code",
   "execution_count": 27,
   "metadata": {
    "collapsed": false
   },
   "outputs": [
    {
     "data": {
      "text/html": [
       "<table class=\"data-frame\"><tr><th></th><th>A</th><th>B</th></tr><tr><th>1</th><td>1</td><td>M</td></tr><tr><th>2</th><td>2</td><td>F</td></tr></table>"
      ],
      "text/plain": [
       "2x2 DataFrames.DataFrame\n",
       "| Row | A | B   |\n",
       "|-----|---|-----|\n",
       "| 1   | 1 | \"M\" |\n",
       "| 2   | 2 | \"F\" |"
      ]
     },
     "execution_count": 27,
     "metadata": {},
     "output_type": "execute_result"
    }
   ],
   "source": [
    "head(df, 2)"
   ]
  },
  {
   "cell_type": "code",
   "execution_count": 31,
   "metadata": {
    "collapsed": false
   },
   "outputs": [
    {
     "data": {
      "text/html": [
       "<table class=\"data-frame\"><tr><th></th><th>A</th><th>B</th></tr><tr><th>1</th><td>5</td><td>F</td></tr><tr><th>2</th><td>6</td><td>M</td></tr><tr><th>3</th><td>7</td><td>M</td></tr><tr><th>4</th><td>8</td><td>F</td></tr></table>"
      ],
      "text/plain": [
       "4x2 DataFrames.DataFrame\n",
       "| Row | A | B   |\n",
       "|-----|---|-----|\n",
       "| 1   | 5 | \"F\" |\n",
       "| 2   | 6 | \"M\" |\n",
       "| 3   | 7 | \"M\" |\n",
       "| 4   | 8 | \"F\" |"
      ]
     },
     "execution_count": 31,
     "metadata": {},
     "output_type": "execute_result"
    }
   ],
   "source": [
    "tail(df, 4)"
   ]
  },
  {
   "cell_type": "markdown",
   "metadata": {},
   "source": [
    "По умолчанию в роли факторов выступают обычные столбцы с данными текстового типа. Для создания \"настоящих\" факторов (как в R) нужно применить к столбцу функцию `pool()`. Это обеспечит более компактное представление данных в памяти, а также позволит корректно задавать спецификации моделей (будет рассматриваться далее)."
   ]
  },
  {
   "cell_type": "code",
   "execution_count": 30,
   "metadata": {
    "collapsed": false
   },
   "outputs": [
    {
     "data": {
      "text/plain": [
       "2-element Array{ASCIIString,1}:\n",
       " \"Group A\"\n",
       " \"Group B\""
      ]
     },
     "execution_count": 30,
     "metadata": {},
     "output_type": "execute_result"
    }
   ],
   "source": [
    "dv = @data([\"Group A\", \"Group A\", \"Group A\",\n",
    "            \"Group B\", \"Group B\", \"Group B\"])\n",
    "pdv = pool(dv)\n",
    "levels(pdv)"
   ]
  },
  {
   "cell_type": "markdown",
   "metadata": {},
   "source": [
    "Также можно модицифировать таблицу без операции присвоения (изменение \"на месте\" - in-place), причем несколько столбцов за раз:"
   ]
  },
  {
   "cell_type": "code",
   "execution_count": 33,
   "metadata": {
    "collapsed": false
   },
   "outputs": [
    {
     "data": {
      "text/html": [
       "<table class=\"data-frame\"><tr><th></th><th>A</th><th>B</th></tr><tr><th>1</th><td>1</td><td>X</td></tr><tr><th>2</th><td>1</td><td>X</td></tr><tr><th>3</th><td>1</td><td>X</td></tr><tr><th>4</th><td>2</td><td>Y</td></tr><tr><th>5</th><td>2</td><td>Y</td></tr><tr><th>6</th><td>2</td><td>Y</td></tr></table>"
      ],
      "text/plain": [
       "6x2 DataFrames.DataFrame\n",
       "| Row | A | B   |\n",
       "|-----|---|-----|\n",
       "| 1   | 1 | \"X\" |\n",
       "| 2   | 1 | \"X\" |\n",
       "| 3   | 1 | \"X\" |\n",
       "| 4   | 2 | \"Y\" |\n",
       "| 5   | 2 | \"Y\" |\n",
       "| 6   | 2 | \"Y\" |"
      ]
     },
     "execution_count": 33,
     "metadata": {},
     "output_type": "execute_result"
    }
   ],
   "source": [
    "df = DataFrame(A = [1, 1, 1, 2, 2, 2],\n",
    "               B = [\"X\", \"X\", \"X\", \"Y\", \"Y\", \"Y\"])\n",
    "pool!(df, [:A, :B])"
   ]
  },
  {
   "cell_type": "markdown",
   "metadata": {},
   "source": [
    "### 2.3. Индексирование таблиц; создание поднаборов\n"
   ]
  },
  {
   "cell_type": "code",
   "execution_count": 36,
   "metadata": {
    "collapsed": false
   },
   "outputs": [
    {
     "data": {
      "text/html": [
       "<table class=\"data-frame\"><tr><th></th><th>A</th><th>B</th></tr><tr><th>1</th><td>1</td><td>2</td></tr><tr><th>2</th><td>2</td><td>4</td></tr><tr><th>3</th><td>3</td><td>6</td></tr></table>"
      ],
      "text/plain": [
       "3x2 DataFrames.DataFrame\n",
       "| Row | A | B |\n",
       "|-----|---|---|\n",
       "| 1   | 1 | 2 |\n",
       "| 2   | 2 | 4 |\n",
       "| 3   | 3 | 6 |"
      ]
     },
     "execution_count": 36,
     "metadata": {},
     "output_type": "execute_result"
    }
   ],
   "source": [
    "df = DataFrame(A = 1:10, B = 2:2:20)\n",
    "# Выбор строк:\n",
    "df[1:3, :]"
   ]
  },
  {
   "cell_type": "code",
   "execution_count": 38,
   "metadata": {
    "collapsed": false
   },
   "outputs": [
    {
     "data": {
      "text/plain": [
       "10-element DataArrays.DataArray{Int32,1}:\n",
       "  1\n",
       "  2\n",
       "  3\n",
       "  4\n",
       "  5\n",
       "  6\n",
       "  7\n",
       "  8\n",
       "  9\n",
       " 10"
      ]
     },
     "execution_count": 38,
     "metadata": {},
     "output_type": "execute_result"
    }
   ],
   "source": [
    "# Выбор столбцов по индексу или по имени:\n",
    "df[1]\n",
    "df[:A]"
   ]
  },
  {
   "cell_type": "code",
   "execution_count": 39,
   "metadata": {
    "collapsed": false
   },
   "outputs": [
    {
     "data": {
      "text/plain": [
       "1"
      ]
     },
     "execution_count": 39,
     "metadata": {},
     "output_type": "execute_result"
    }
   ],
   "source": [
    "# Выбор отдельных наблюдений:\n",
    "df[1, 1]\n",
    "df[1, :A]"
   ]
  },
  {
   "cell_type": "code",
   "execution_count": 40,
   "metadata": {
    "collapsed": false
   },
   "outputs": [
    {
     "data": {
      "text/html": [
       "<table class=\"data-frame\"><tr><th></th><th>A</th><th>B</th></tr><tr><th>1</th><td>1</td><td>2</td></tr><tr><th>2</th><td>2</td><td>4</td></tr><tr><th>3</th><td>3</td><td>6</td></tr></table>"
      ],
      "text/plain": [
       "3x2 DataFrames.DataFrame\n",
       "| Row | A | B |\n",
       "|-----|---|---|\n",
       "| 1   | 1 | 2 |\n",
       "| 2   | 2 | 4 |\n",
       "| 3   | 3 | 6 |"
      ]
     },
     "execution_count": 40,
     "metadata": {},
     "output_type": "execute_result"
    }
   ],
   "source": [
    "# Выбор поднаборов (порядок столбцов имеет значение):\n",
    "df[1:3, [:A, :B]]"
   ]
  },
  {
   "cell_type": "code",
   "execution_count": 44,
   "metadata": {
    "collapsed": false
   },
   "outputs": [
    {
     "data": {
      "text/html": [
       "<table class=\"data-frame\"><tr><th></th><th>A</th><th>B</th></tr><tr><th>1</th><td>2</td><td>4</td></tr><tr><th>2</th><td>4</td><td>8</td></tr><tr><th>3</th><td>6</td><td>12</td></tr><tr><th>4</th><td>8</td><td>16</td></tr><tr><th>5</th><td>10</td><td>20</td></tr></table>"
      ],
      "text/plain": [
       "5x2 DataFrames.DataFrame\n",
       "| Row | A  | B  |\n",
       "|-----|----|----|\n",
       "| 1   | 2  | 4  |\n",
       "| 2   | 4  | 8  |\n",
       "| 3   | 6  | 12 |\n",
       "| 4   | 8  | 16 |\n",
       "| 5   | 10 | 20 |"
      ]
     },
     "execution_count": 44,
     "metadata": {},
     "output_type": "execute_result"
    }
   ],
   "source": [
    "# Выбор по условию:\n",
    "df[df[:A] % 2 .== 0, :]"
   ]
  },
  {
   "cell_type": "markdown",
   "metadata": {},
   "source": [
    "### 2.4. Сортировка (упорядочивание)\n",
    "Рассмотрим комплексный пример из документации. Набор данных `iris` будет отсортирован сперва по столбцу `Species` в лексикографическом порядке (значения предварительно приводятся к верхнему регистру - функция `uppercase`), а затем - по убыванию значений столбца `SepalLength`."
   ]
  },
  {
   "cell_type": "code",
   "execution_count": 45,
   "metadata": {
    "collapsed": false
   },
   "outputs": [
    {
     "data": {
      "text/html": [
       "<table class=\"data-frame\"><tr><th></th><th>SepalLength</th><th>SepalWidth</th><th>PetalLength</th><th>PetalWidth</th><th>Species</th></tr><tr><th>1</th><td>5.8</td><td>4.0</td><td>1.2</td><td>0.2</td><td>setosa</td></tr><tr><th>2</th><td>5.7</td><td>4.4</td><td>1.5</td><td>0.4</td><td>setosa</td></tr><tr><th>3</th><td>5.7</td><td>3.8</td><td>1.7</td><td>0.3</td><td>setosa</td></tr><tr><th>4</th><td>5.5</td><td>4.2</td><td>1.4</td><td>0.2</td><td>setosa</td></tr><tr><th>5</th><td>5.5</td><td>3.5</td><td>1.3</td><td>0.2</td><td>setosa</td></tr><tr><th>6</th><td>5.4</td><td>3.9</td><td>1.7</td><td>0.4</td><td>setosa</td></tr><tr><th>7</th><td>5.4</td><td>3.7</td><td>1.5</td><td>0.2</td><td>setosa</td></tr><tr><th>8</th><td>5.4</td><td>3.9</td><td>1.3</td><td>0.4</td><td>setosa</td></tr><tr><th>9</th><td>5.4</td><td>3.4</td><td>1.7</td><td>0.2</td><td>setosa</td></tr><tr><th>10</th><td>5.4</td><td>3.4</td><td>1.5</td><td>0.4</td><td>setosa</td></tr><tr><th>11</th><td>5.3</td><td>3.7</td><td>1.5</td><td>0.2</td><td>setosa</td></tr><tr><th>12</th><td>5.2</td><td>3.5</td><td>1.5</td><td>0.2</td><td>setosa</td></tr><tr><th>13</th><td>5.2</td><td>3.4</td><td>1.4</td><td>0.2</td><td>setosa</td></tr><tr><th>14</th><td>5.2</td><td>4.1</td><td>1.5</td><td>0.1</td><td>setosa</td></tr><tr><th>15</th><td>5.1</td><td>3.5</td><td>1.4</td><td>0.2</td><td>setosa</td></tr><tr><th>16</th><td>5.1</td><td>3.5</td><td>1.4</td><td>0.3</td><td>setosa</td></tr><tr><th>17</th><td>5.1</td><td>3.8</td><td>1.5</td><td>0.3</td><td>setosa</td></tr><tr><th>18</th><td>5.1</td><td>3.7</td><td>1.5</td><td>0.4</td><td>setosa</td></tr><tr><th>19</th><td>5.1</td><td>3.3</td><td>1.7</td><td>0.5</td><td>setosa</td></tr><tr><th>20</th><td>5.1</td><td>3.4</td><td>1.5</td><td>0.2</td><td>setosa</td></tr><tr><th>21</th><td>5.1</td><td>3.8</td><td>1.9</td><td>0.4</td><td>setosa</td></tr><tr><th>22</th><td>5.1</td><td>3.8</td><td>1.6</td><td>0.2</td><td>setosa</td></tr><tr><th>23</th><td>5.0</td><td>3.6</td><td>1.4</td><td>0.2</td><td>setosa</td></tr><tr><th>24</th><td>5.0</td><td>3.4</td><td>1.5</td><td>0.2</td><td>setosa</td></tr><tr><th>25</th><td>5.0</td><td>3.0</td><td>1.6</td><td>0.2</td><td>setosa</td></tr><tr><th>26</th><td>5.0</td><td>3.4</td><td>1.6</td><td>0.4</td><td>setosa</td></tr><tr><th>27</th><td>5.0</td><td>3.2</td><td>1.2</td><td>0.2</td><td>setosa</td></tr><tr><th>28</th><td>5.0</td><td>3.5</td><td>1.3</td><td>0.3</td><td>setosa</td></tr><tr><th>29</th><td>5.0</td><td>3.5</td><td>1.6</td><td>0.6</td><td>setosa</td></tr><tr><th>30</th><td>5.0</td><td>3.3</td><td>1.4</td><td>0.2</td><td>setosa</td></tr><tr><th>&vellip;</th><td>&vellip;</td><td>&vellip;</td><td>&vellip;</td><td>&vellip;</td><td>&vellip;</td></tr></table>"
      ],
      "text/plain": [
       "150x5 DataFrames.DataFrame\n",
       "| Row | SepalLength | SepalWidth | PetalLength | PetalWidth | Species     |\n",
       "|-----|-------------|------------|-------------|------------|-------------|\n",
       "| 1   | 5.8         | 4.0        | 1.2         | 0.2        | \"setosa\"    |\n",
       "| 2   | 5.7         | 4.4        | 1.5         | 0.4        | \"setosa\"    |\n",
       "| 3   | 5.7         | 3.8        | 1.7         | 0.3        | \"setosa\"    |\n",
       "| 4   | 5.5         | 4.2        | 1.4         | 0.2        | \"setosa\"    |\n",
       "| 5   | 5.5         | 3.5        | 1.3         | 0.2        | \"setosa\"    |\n",
       "| 6   | 5.4         | 3.9        | 1.7         | 0.4        | \"setosa\"    |\n",
       "| 7   | 5.4         | 3.7        | 1.5         | 0.2        | \"setosa\"    |\n",
       "| 8   | 5.4         | 3.9        | 1.3         | 0.4        | \"setosa\"    |\n",
       "| 9   | 5.4         | 3.4        | 1.7         | 0.2        | \"setosa\"    |\n",
       "| 10  | 5.4         | 3.4        | 1.5         | 0.4        | \"setosa\"    |\n",
       "| 11  | 5.3         | 3.7        | 1.5         | 0.2        | \"setosa\"    |\n",
       "⋮\n",
       "| 139 | 6.2         | 3.4        | 5.4         | 2.3        | \"virginica\" |\n",
       "| 140 | 6.1         | 3.0        | 4.9         | 1.8        | \"virginica\" |\n",
       "| 141 | 6.1         | 2.6        | 5.6         | 1.4        | \"virginica\" |\n",
       "| 142 | 6.0         | 2.2        | 5.0         | 1.5        | \"virginica\" |\n",
       "| 143 | 6.0         | 3.0        | 4.8         | 1.8        | \"virginica\" |\n",
       "| 144 | 5.9         | 3.0        | 5.1         | 1.8        | \"virginica\" |\n",
       "| 145 | 5.8         | 2.7        | 5.1         | 1.9        | \"virginica\" |\n",
       "| 146 | 5.8         | 2.8        | 5.1         | 2.4        | \"virginica\" |\n",
       "| 147 | 5.8         | 2.7        | 5.1         | 1.9        | \"virginica\" |\n",
       "| 148 | 5.7         | 2.5        | 5.0         | 2.0        | \"virginica\" |\n",
       "| 149 | 5.6         | 2.8        | 4.9         | 2.0        | \"virginica\" |\n",
       "| 150 | 4.9         | 2.5        | 4.5         | 1.7        | \"virginica\" |"
      ]
     },
     "execution_count": 45,
     "metadata": {},
     "output_type": "execute_result"
    }
   ],
   "source": [
    "iris = dataset(\"datasets\", \"iris\")\n",
    "sort!(iris, cols = [order(:Species, by = uppercase),\n",
    "                    order(:SepalLength, rev = true)])"
   ]
  },
  {
   "cell_type": "markdown",
   "metadata": {},
   "source": [
    "Поддерживается синтаксис следующего вида:"
   ]
  },
  {
   "cell_type": "code",
   "execution_count": 50,
   "metadata": {
    "collapsed": false
   },
   "outputs": [
    {
     "data": {
      "text/html": [
       "<table class=\"data-frame\"><tr><th></th><th>SepalLength</th><th>SepalWidth</th><th>PetalLength</th><th>PetalWidth</th><th>Species</th></tr><tr><th>1</th><td>4.9</td><td>2.5</td><td>4.5</td><td>1.7</td><td>virginica</td></tr><tr><th>2</th><td>5.6</td><td>2.8</td><td>4.9</td><td>2.0</td><td>virginica</td></tr><tr><th>3</th><td>5.7</td><td>2.5</td><td>5.0</td><td>2.0</td><td>virginica</td></tr><tr><th>4</th><td>5.8</td><td>2.7</td><td>5.1</td><td>1.9</td><td>virginica</td></tr><tr><th>5</th><td>5.8</td><td>2.7</td><td>5.1</td><td>1.9</td><td>virginica</td></tr><tr><th>6</th><td>5.8</td><td>2.8</td><td>5.1</td><td>2.4</td><td>virginica</td></tr><tr><th>7</th><td>5.9</td><td>3.0</td><td>5.1</td><td>1.8</td><td>virginica</td></tr><tr><th>8</th><td>6.0</td><td>2.2</td><td>5.0</td><td>1.5</td><td>virginica</td></tr><tr><th>9</th><td>6.0</td><td>3.0</td><td>4.8</td><td>1.8</td><td>virginica</td></tr><tr><th>10</th><td>6.1</td><td>2.6</td><td>5.6</td><td>1.4</td><td>virginica</td></tr><tr><th>11</th><td>6.1</td><td>3.0</td><td>4.9</td><td>1.8</td><td>virginica</td></tr><tr><th>12</th><td>6.2</td><td>2.8</td><td>4.8</td><td>1.8</td><td>virginica</td></tr><tr><th>13</th><td>6.2</td><td>3.4</td><td>5.4</td><td>2.3</td><td>virginica</td></tr><tr><th>14</th><td>6.3</td><td>2.5</td><td>5.0</td><td>1.9</td><td>virginica</td></tr><tr><th>15</th><td>6.3</td><td>2.7</td><td>4.9</td><td>1.8</td><td>virginica</td></tr><tr><th>16</th><td>6.3</td><td>2.8</td><td>5.1</td><td>1.5</td><td>virginica</td></tr><tr><th>17</th><td>6.3</td><td>2.9</td><td>5.6</td><td>1.8</td><td>virginica</td></tr><tr><th>18</th><td>6.3</td><td>3.3</td><td>6.0</td><td>2.5</td><td>virginica</td></tr><tr><th>19</th><td>6.3</td><td>3.4</td><td>5.6</td><td>2.4</td><td>virginica</td></tr><tr><th>20</th><td>6.4</td><td>2.7</td><td>5.3</td><td>1.9</td><td>virginica</td></tr><tr><th>21</th><td>6.4</td><td>2.8</td><td>5.6</td><td>2.1</td><td>virginica</td></tr><tr><th>22</th><td>6.4</td><td>2.8</td><td>5.6</td><td>2.2</td><td>virginica</td></tr><tr><th>23</th><td>6.4</td><td>3.1</td><td>5.5</td><td>1.8</td><td>virginica</td></tr><tr><th>24</th><td>6.4</td><td>3.2</td><td>5.3</td><td>2.3</td><td>virginica</td></tr><tr><th>25</th><td>6.5</td><td>3.0</td><td>5.8</td><td>2.2</td><td>virginica</td></tr><tr><th>26</th><td>6.5</td><td>3.0</td><td>5.5</td><td>1.8</td><td>virginica</td></tr><tr><th>27</th><td>6.5</td><td>3.0</td><td>5.2</td><td>2.0</td><td>virginica</td></tr><tr><th>28</th><td>6.5</td><td>3.2</td><td>5.1</td><td>2.0</td><td>virginica</td></tr><tr><th>29</th><td>6.7</td><td>2.5</td><td>5.8</td><td>1.8</td><td>virginica</td></tr><tr><th>30</th><td>6.7</td><td>3.0</td><td>5.2</td><td>2.3</td><td>virginica</td></tr><tr><th>&vellip;</th><td>&vellip;</td><td>&vellip;</td><td>&vellip;</td><td>&vellip;</td><td>&vellip;</td></tr></table>"
      ],
      "text/plain": [
       "150x5 DataFrames.DataFrame\n",
       "| Row | SepalLength | SepalWidth | PetalLength | PetalWidth | Species     |\n",
       "|-----|-------------|------------|-------------|------------|-------------|\n",
       "| 1   | 4.9         | 2.5        | 4.5         | 1.7        | \"virginica\" |\n",
       "| 2   | 5.6         | 2.8        | 4.9         | 2.0        | \"virginica\" |\n",
       "| 3   | 5.7         | 2.5        | 5.0         | 2.0        | \"virginica\" |\n",
       "| 4   | 5.8         | 2.7        | 5.1         | 1.9        | \"virginica\" |\n",
       "| 5   | 5.8         | 2.7        | 5.1         | 1.9        | \"virginica\" |\n",
       "| 6   | 5.8         | 2.8        | 5.1         | 2.4        | \"virginica\" |\n",
       "| 7   | 5.9         | 3.0        | 5.1         | 1.8        | \"virginica\" |\n",
       "| 8   | 6.0         | 2.2        | 5.0         | 1.5        | \"virginica\" |\n",
       "| 9   | 6.0         | 3.0        | 4.8         | 1.8        | \"virginica\" |\n",
       "| 10  | 6.1         | 2.6        | 5.6         | 1.4        | \"virginica\" |\n",
       "| 11  | 6.1         | 3.0        | 4.9         | 1.8        | \"virginica\" |\n",
       "⋮\n",
       "| 139 | 5.2         | 4.1        | 1.5         | 0.1        | \"setosa\"    |\n",
       "| 140 | 5.3         | 3.7        | 1.5         | 0.2        | \"setosa\"    |\n",
       "| 141 | 5.4         | 3.4        | 1.7         | 0.2        | \"setosa\"    |\n",
       "| 142 | 5.4         | 3.4        | 1.5         | 0.4        | \"setosa\"    |\n",
       "| 143 | 5.4         | 3.7        | 1.5         | 0.2        | \"setosa\"    |\n",
       "| 144 | 5.4         | 3.9        | 1.7         | 0.4        | \"setosa\"    |\n",
       "| 145 | 5.4         | 3.9        | 1.3         | 0.4        | \"setosa\"    |\n",
       "| 146 | 5.5         | 3.5        | 1.3         | 0.2        | \"setosa\"    |\n",
       "| 147 | 5.5         | 4.2        | 1.4         | 0.2        | \"setosa\"    |\n",
       "| 148 | 5.7         | 3.8        | 1.7         | 0.3        | \"setosa\"    |\n",
       "| 149 | 5.7         | 4.4        | 1.5         | 0.4        | \"setosa\"    |\n",
       "| 150 | 5.8         | 4.0        | 1.2         | 0.2        | \"setosa\"    |"
      ]
     },
     "execution_count": 50,
     "metadata": {},
     "output_type": "execute_result"
    }
   ],
   "source": [
    "sort!(iris, cols = (:Species, :SepalLength, :SepalWidth),\n",
    "            rev = (true, false, false))\n",
    "# Аналог:\n",
    "sort!(iris,\n",
    "      cols = (order(:Species, rev = true), :SepalLength, :SepalWidth))"
   ]
  },
  {
   "cell_type": "markdown",
   "metadata": {},
   "source": [
    "### 2.5. \"Широкий\" и \"длинный\" формат данных\n",
    "\n",
    "Форматирование данных из \"широкого\" в \"длинный\" формат осуществляется по аналогии с пакетом **reshape2** для R.\n",
    "\n",
    "\"Длинный\" формат (значения всех переменных в одном столбце):"
   ]
  },
  {
   "cell_type": "code",
   "execution_count": 87,
   "metadata": {
    "collapsed": false
   },
   "outputs": [
    {
     "data": {
      "text/html": [
       "<table class=\"data-frame\"><tr><th></th><th>variable</th><th>value</th><th>Species</th><th>id</th></tr><tr><th>1</th><td>SepalLength</td><td>5.1</td><td>setosa</td><td>1</td></tr><tr><th>2</th><td>SepalLength</td><td>4.9</td><td>setosa</td><td>2</td></tr><tr><th>3</th><td>SepalLength</td><td>4.7</td><td>setosa</td><td>3</td></tr><tr><th>4</th><td>SepalLength</td><td>4.6</td><td>setosa</td><td>4</td></tr><tr><th>5</th><td>SepalLength</td><td>5.0</td><td>setosa</td><td>5</td></tr><tr><th>6</th><td>SepalLength</td><td>5.4</td><td>setosa</td><td>6</td></tr><tr><th>7</th><td>SepalLength</td><td>4.6</td><td>setosa</td><td>7</td></tr><tr><th>8</th><td>SepalLength</td><td>5.0</td><td>setosa</td><td>8</td></tr><tr><th>9</th><td>SepalLength</td><td>4.4</td><td>setosa</td><td>9</td></tr><tr><th>10</th><td>SepalLength</td><td>4.9</td><td>setosa</td><td>10</td></tr><tr><th>11</th><td>SepalLength</td><td>5.4</td><td>setosa</td><td>11</td></tr><tr><th>12</th><td>SepalLength</td><td>4.8</td><td>setosa</td><td>12</td></tr><tr><th>13</th><td>SepalLength</td><td>4.8</td><td>setosa</td><td>13</td></tr><tr><th>14</th><td>SepalLength</td><td>4.3</td><td>setosa</td><td>14</td></tr><tr><th>15</th><td>SepalLength</td><td>5.8</td><td>setosa</td><td>15</td></tr><tr><th>16</th><td>SepalLength</td><td>5.7</td><td>setosa</td><td>16</td></tr><tr><th>17</th><td>SepalLength</td><td>5.4</td><td>setosa</td><td>17</td></tr><tr><th>18</th><td>SepalLength</td><td>5.1</td><td>setosa</td><td>18</td></tr><tr><th>19</th><td>SepalLength</td><td>5.7</td><td>setosa</td><td>19</td></tr><tr><th>20</th><td>SepalLength</td><td>5.1</td><td>setosa</td><td>20</td></tr><tr><th>21</th><td>SepalLength</td><td>5.4</td><td>setosa</td><td>21</td></tr><tr><th>22</th><td>SepalLength</td><td>5.1</td><td>setosa</td><td>22</td></tr><tr><th>23</th><td>SepalLength</td><td>4.6</td><td>setosa</td><td>23</td></tr><tr><th>24</th><td>SepalLength</td><td>5.1</td><td>setosa</td><td>24</td></tr><tr><th>25</th><td>SepalLength</td><td>4.8</td><td>setosa</td><td>25</td></tr><tr><th>26</th><td>SepalLength</td><td>5.0</td><td>setosa</td><td>26</td></tr><tr><th>27</th><td>SepalLength</td><td>5.0</td><td>setosa</td><td>27</td></tr><tr><th>28</th><td>SepalLength</td><td>5.2</td><td>setosa</td><td>28</td></tr><tr><th>29</th><td>SepalLength</td><td>5.2</td><td>setosa</td><td>29</td></tr><tr><th>30</th><td>SepalLength</td><td>4.7</td><td>setosa</td><td>30</td></tr><tr><th>&vellip;</th><td>&vellip;</td><td>&vellip;</td><td>&vellip;</td><td>&vellip;</td></tr></table>"
      ],
      "text/plain": [
       "600x4 DataFrames.DataFrame\n",
       "| Row | variable    | value | Species     | id  |\n",
       "|-----|-------------|-------|-------------|-----|\n",
       "| 1   | SepalLength | 5.1   | \"setosa\"    | 1   |\n",
       "| 2   | SepalLength | 4.9   | \"setosa\"    | 2   |\n",
       "| 3   | SepalLength | 4.7   | \"setosa\"    | 3   |\n",
       "| 4   | SepalLength | 4.6   | \"setosa\"    | 4   |\n",
       "| 5   | SepalLength | 5.0   | \"setosa\"    | 5   |\n",
       "| 6   | SepalLength | 5.4   | \"setosa\"    | 6   |\n",
       "| 7   | SepalLength | 4.6   | \"setosa\"    | 7   |\n",
       "| 8   | SepalLength | 5.0   | \"setosa\"    | 8   |\n",
       "| 9   | SepalLength | 4.4   | \"setosa\"    | 9   |\n",
       "| 10  | SepalLength | 4.9   | \"setosa\"    | 10  |\n",
       "| 11  | SepalLength | 5.4   | \"setosa\"    | 11  |\n",
       "⋮\n",
       "| 589 | PetalWidth  | 1.8   | \"virginica\" | 139 |\n",
       "| 590 | PetalWidth  | 2.1   | \"virginica\" | 140 |\n",
       "| 591 | PetalWidth  | 2.4   | \"virginica\" | 141 |\n",
       "| 592 | PetalWidth  | 2.3   | \"virginica\" | 142 |\n",
       "| 593 | PetalWidth  | 1.9   | \"virginica\" | 143 |\n",
       "| 594 | PetalWidth  | 2.3   | \"virginica\" | 144 |\n",
       "| 595 | PetalWidth  | 2.5   | \"virginica\" | 145 |\n",
       "| 596 | PetalWidth  | 2.3   | \"virginica\" | 146 |\n",
       "| 597 | PetalWidth  | 1.9   | \"virginica\" | 147 |\n",
       "| 598 | PetalWidth  | 2.0   | \"virginica\" | 148 |\n",
       "| 599 | PetalWidth  | 2.3   | \"virginica\" | 149 |\n",
       "| 600 | PetalWidth  | 1.8   | \"virginica\" | 150 |"
      ]
     },
     "execution_count": 87,
     "metadata": {},
     "output_type": "execute_result"
    }
   ],
   "source": [
    "iris = dataset(\"datasets\", \"iris\")\n",
    "iris[:id] = 1:size(iris, 1)  \n",
    "d = stack(iris, [:SepalLength, :SepalWidth, :PetalLength, :PetalWidth])\n",
    "# Аналогично: d = stack(iris, [1:4])"
   ]
  },
  {
   "cell_type": "markdown",
   "metadata": {},
   "source": [
    "\"Широкий\" формат:"
   ]
  },
  {
   "cell_type": "code",
   "execution_count": 96,
   "metadata": {
    "collapsed": false
   },
   "outputs": [
    {
     "data": {
      "text/html": [
       "<table class=\"data-frame\"><tr><th></th><th>Species</th><th>id</th><th>PetalLength</th><th>PetalWidth</th><th>SepalLength</th><th>SepalWidth</th></tr><tr><th>1</th><td>setosa</td><td>1</td><td>1.4</td><td>0.2</td><td>5.1</td><td>3.5</td></tr><tr><th>2</th><td>setosa</td><td>5</td><td>1.4</td><td>0.2</td><td>4.9</td><td>3.0</td></tr><tr><th>3</th><td>setosa</td><td>9</td><td>1.3</td><td>0.2</td><td>4.7</td><td>3.2</td></tr><tr><th>4</th><td>setosa</td><td>13</td><td>1.5</td><td>0.2</td><td>4.6</td><td>3.1</td></tr><tr><th>5</th><td>setosa</td><td>17</td><td>1.4</td><td>0.2</td><td>5.0</td><td>3.6</td></tr><tr><th>6</th><td>setosa</td><td>21</td><td>1.7</td><td>0.4</td><td>5.4</td><td>3.9</td></tr><tr><th>7</th><td>setosa</td><td>25</td><td>1.4</td><td>0.3</td><td>4.6</td><td>3.4</td></tr><tr><th>8</th><td>setosa</td><td>29</td><td>1.5</td><td>0.2</td><td>5.0</td><td>3.4</td></tr><tr><th>9</th><td>setosa</td><td>33</td><td>1.4</td><td>0.2</td><td>4.4</td><td>2.9</td></tr><tr><th>10</th><td>setosa</td><td>37</td><td>1.5</td><td>0.1</td><td>4.9</td><td>3.1</td></tr><tr><th>11</th><td>setosa</td><td>41</td><td>1.5</td><td>0.2</td><td>5.4</td><td>3.7</td></tr><tr><th>12</th><td>setosa</td><td>45</td><td>1.6</td><td>0.2</td><td>4.8</td><td>3.4</td></tr><tr><th>13</th><td>setosa</td><td>49</td><td>1.4</td><td>0.1</td><td>4.8</td><td>3.0</td></tr><tr><th>14</th><td>versicolor</td><td>53</td><td>1.1</td><td>0.1</td><td>4.3</td><td>3.0</td></tr><tr><th>15</th><td>versicolor</td><td>57</td><td>1.2</td><td>0.2</td><td>5.8</td><td>4.0</td></tr><tr><th>16</th><td>versicolor</td><td>61</td><td>1.5</td><td>0.4</td><td>5.7</td><td>4.4</td></tr><tr><th>17</th><td>versicolor</td><td>65</td><td>1.3</td><td>0.4</td><td>5.4</td><td>3.9</td></tr><tr><th>18</th><td>versicolor</td><td>69</td><td>1.4</td><td>0.3</td><td>5.1</td><td>3.5</td></tr><tr><th>19</th><td>versicolor</td><td>73</td><td>1.7</td><td>0.3</td><td>5.7</td><td>3.8</td></tr><tr><th>20</th><td>versicolor</td><td>77</td><td>1.5</td><td>0.3</td><td>5.1</td><td>3.8</td></tr><tr><th>21</th><td>versicolor</td><td>81</td><td>1.7</td><td>0.2</td><td>5.4</td><td>3.4</td></tr><tr><th>22</th><td>versicolor</td><td>85</td><td>1.5</td><td>0.4</td><td>5.1</td><td>3.7</td></tr><tr><th>23</th><td>versicolor</td><td>89</td><td>1.0</td><td>0.2</td><td>4.6</td><td>3.6</td></tr><tr><th>24</th><td>versicolor</td><td>93</td><td>1.7</td><td>0.5</td><td>5.1</td><td>3.3</td></tr><tr><th>25</th><td>versicolor</td><td>97</td><td>1.9</td><td>0.2</td><td>4.8</td><td>3.4</td></tr><tr><th>26</th><td>virginica</td><td>101</td><td>1.6</td><td>0.2</td><td>5.0</td><td>3.0</td></tr><tr><th>27</th><td>virginica</td><td>105</td><td>1.6</td><td>0.4</td><td>5.0</td><td>3.4</td></tr><tr><th>28</th><td>virginica</td><td>109</td><td>1.5</td><td>0.2</td><td>5.2</td><td>3.5</td></tr><tr><th>29</th><td>virginica</td><td>113</td><td>1.4</td><td>0.2</td><td>5.2</td><td>3.4</td></tr><tr><th>30</th><td>virginica</td><td>117</td><td>1.6</td><td>0.2</td><td>4.7</td><td>3.2</td></tr><tr><th>&vellip;</th><td>&vellip;</td><td>&vellip;</td><td>&vellip;</td><td>&vellip;</td><td>&vellip;</td><td>&vellip;</td></tr></table>"
      ],
      "text/plain": [
       "150x6 DataFrames.DataFrame\n",
       "| Row | Species     | id  | PetalLength | PetalWidth | SepalLength |\n",
       "|-----|-------------|-----|-------------|------------|-------------|\n",
       "| 1   | \"setosa\"    | 1   | 1.4         | 0.2        | 5.1         |\n",
       "| 2   | \"setosa\"    | 5   | 1.4         | 0.2        | 4.9         |\n",
       "| 3   | \"setosa\"    | 9   | 1.3         | 0.2        | 4.7         |\n",
       "| 4   | \"setosa\"    | 13  | 1.5         | 0.2        | 4.6         |\n",
       "| 5   | \"setosa\"    | 17  | 1.4         | 0.2        | 5.0         |\n",
       "| 6   | \"setosa\"    | 21  | 1.7         | 0.4        | 5.4         |\n",
       "| 7   | \"setosa\"    | 25  | 1.4         | 0.3        | 4.6         |\n",
       "| 8   | \"setosa\"    | 29  | 1.5         | 0.2        | 5.0         |\n",
       "| 9   | \"setosa\"    | 33  | 1.4         | 0.2        | 4.4         |\n",
       "| 10  | \"setosa\"    | 37  | 1.5         | 0.1        | 4.9         |\n",
       "| 11  | \"setosa\"    | 41  | 1.5         | 0.2        | 5.4         |\n",
       "⋮\n",
       "| 139 | \"virginica\" | 103 | 4.8         | 1.8        | 6.0         |\n",
       "| 140 | \"virginica\" | 107 | 5.4         | 2.1        | 6.9         |\n",
       "| 141 | \"virginica\" | 111 | 5.6         | 2.4        | 6.7         |\n",
       "| 142 | \"virginica\" | 115 | 5.1         | 2.3        | 6.9         |\n",
       "| 143 | \"virginica\" | 119 | 5.1         | 1.9        | 5.8         |\n",
       "| 144 | \"virginica\" | 123 | 5.9         | 2.3        | 6.8         |\n",
       "| 145 | \"virginica\" | 127 | 5.7         | 2.5        | 6.7         |\n",
       "| 146 | \"virginica\" | 131 | 5.2         | 2.3        | 6.7         |\n",
       "| 147 | \"virginica\" | 135 | 5.0         | 1.9        | 6.3         |\n",
       "| 148 | \"virginica\" | 139 | 5.2         | 2.0        | 6.5         |\n",
       "| 149 | \"virginica\" | 143 | 5.4         | 2.3        | 6.2         |\n",
       "| 150 | \"virginica\" | 147 | 5.1         | 1.8        | 5.9         |\n",
       "\n",
       "| Row | SepalWidth |\n",
       "|-----|------------|\n",
       "| 1   | 3.5        |\n",
       "| 2   | 3.0        |\n",
       "| 3   | 3.2        |\n",
       "| 4   | 3.1        |\n",
       "| 5   | 3.6        |\n",
       "| 6   | 3.9        |\n",
       "| 7   | 3.4        |\n",
       "| 8   | 3.4        |\n",
       "| 9   | 2.9        |\n",
       "| 10  | 3.1        |\n",
       "| 11  | 3.7        |\n",
       "⋮\n",
       "| 139 | 3.0        |\n",
       "| 140 | 3.1        |\n",
       "| 141 | 3.1        |\n",
       "| 142 | 3.1        |\n",
       "| 143 | 2.7        |\n",
       "| 144 | 3.2        |\n",
       "| 145 | 3.3        |\n",
       "| 146 | 3.0        |\n",
       "| 147 | 2.5        |\n",
       "| 148 | 3.0        |\n",
       "| 149 | 3.4        |\n",
       "| 150 | 3.0        |"
      ]
     },
     "execution_count": 96,
     "metadata": {},
     "output_type": "execute_result"
    }
   ],
   "source": [
    "widedf = unstack(d, :variable, :value)"
   ]
  },
  {
   "cell_type": "markdown",
   "metadata": {},
   "source": [
    "### 2.6. Итоговые статистики; стратегия \"Split-Apply-Combine\"\n",
    "Прежде всего нужно отметить возможность вычисления итоговых статистик для всех (или нескольких) столбцов таблицы данных:"
   ]
  },
  {
   "cell_type": "code",
   "execution_count": 129,
   "metadata": {
    "collapsed": false
   },
   "outputs": [
    {
     "name": "stdout",
     "output_type": "stream",
     "text": [
      "SepalLength\n",
      "Min      4.3\n",
      "1st Qu.  5.1\n",
      "Median   5.8\n",
      "Mean     5.843333333333332\n",
      "3rd Qu.  6.4\n",
      "Max      7.9\n",
      "NAs      0\n",
      "NA%      0.0%\n",
      "\n",
      "SepalWidth\n",
      "Min      2.0\n",
      "1st Qu.  2.8\n",
      "Median   3.0\n",
      "Mean     3.0573333333333337\n",
      "3rd Qu.  3.3\n",
      "Max      4.4\n",
      "NAs      0\n",
      "NA%      0.0%\n",
      "\n",
      "PetalLength\n",
      "Min      1.0\n",
      "1st Qu.  1.6\n",
      "Median   4.35\n",
      "Mean     3.7580000000000005\n",
      "3rd Qu.  5.1\n",
      "Max      6.9\n",
      "NAs      0\n",
      "NA%      0.0%\n",
      "\n"
     ]
    }
   ],
   "source": [
    "describe(iris[1:3])"
   ]
  },
  {
   "cell_type": "markdown",
   "metadata": {},
   "source": [
    "Кроме того, можно применять те или иный функции к совокупности столбцов при помощи функции `colwise()` (аналог `apply()` в R): "
   ]
  },
  {
   "cell_type": "code",
   "execution_count": 117,
   "metadata": {
    "collapsed": false
   },
   "outputs": [
    {
     "data": {
      "text/plain": [
       "3-element Array{Any,1}:\n",
       " [20]               \n",
       " [12]               \n",
       " [7.510390532304938]"
      ]
     },
     "execution_count": 117,
     "metadata": {},
     "output_type": "execute_result"
    }
   ],
   "source": [
    "df = DataFrame(a = rep(1:4, 2), b = rep(2:-1:1, 4), c = randn(8))\n",
    "colwise(sum, df)"
   ]
  },
  {
   "cell_type": "markdown",
   "metadata": {},
   "source": [
    "Реализована стратегия \"Split-Apply-Combine\", описанная в [The Split-Apply-Combine Strategy for Data Analysis](https://www.jstatsoft.org/article/view/v040i01):"
   ]
  },
  {
   "cell_type": "code",
   "execution_count": 121,
   "metadata": {
    "collapsed": false
   },
   "outputs": [
    {
     "data": {
      "text/html": [
       "<table class=\"data-frame\"><tr><th></th><th>a</th><th>x1</th></tr><tr><th>1</th><td>1</td><td>2.251006808623205</td></tr><tr><th>2</th><td>2</td><td>1.4860318319904267</td></tr><tr><th>3</th><td>3</td><td>-1.060231557584403</td></tr><tr><th>4</th><td>4</td><td>3.5259613652270683</td></tr></table>"
      ],
      "text/plain": [
       "4x2 DataFrames.DataFrame\n",
       "| Row | a | x1       |\n",
       "|-----|---|----------|\n",
       "| 1   | 1 | 2.25101  |\n",
       "| 2   | 2 | 1.48603  |\n",
       "| 3   | 3 | -1.06023 |\n",
       "| 4   | 4 | 3.52596  |"
      ]
     },
     "execution_count": 121,
     "metadata": {},
     "output_type": "execute_result"
    }
   ],
   "source": [
    "df = DataFrame(a = rep(1:4, 2), b = rep(2:-1:1, 4), c = randn(8))\n",
    "# Вычисляем сумму значений столбца \"c\" с группировкой по столбцу \"a\":\n",
    "by(df, :a, d -> sum(d[:c]))"
   ]
  },
  {
   "cell_type": "code",
   "execution_count": 122,
   "metadata": {
    "collapsed": false
   },
   "outputs": [
    {
     "data": {
      "text/html": [
       "<table class=\"data-frame\"><tr><th></th><th>Species</th><th>m</th><th>s²</th></tr><tr><th>1</th><td>setosa</td><td>1.462</td><td>0.030159183673469384</td></tr><tr><th>2</th><td>versicolor</td><td>4.26</td><td>0.22081632653061226</td></tr><tr><th>3</th><td>virginica</td><td>5.552</td><td>0.3045877551020408</td></tr></table>"
      ],
      "text/plain": [
       "3x3 DataFrames.DataFrame\n",
       "| Row | Species      | m     | s²        |\n",
       "|-----|--------------|-------|-----------|\n",
       "| 1   | \"setosa\"     | 1.462 | 0.0301592 |\n",
       "| 2   | \"versicolor\" | 4.26  | 0.220816  |\n",
       "| 3   | \"virginica\"  | 5.552 | 0.304588  |"
      ]
     },
     "execution_count": 122,
     "metadata": {},
     "output_type": "execute_result"
    }
   ],
   "source": [
    "# Группировка по столбцу \"Species\", для каждой группы считаем среднее и дисперсию \"PetalLength\":\n",
    "by(iris, :Species) do df\n",
    "    DataFrame(m = mean(df[:PetalLength]), s² = var(df[:PetalLength]))\n",
    "end"
   ]
  },
  {
   "cell_type": "code",
   "execution_count": 123,
   "metadata": {
    "collapsed": false
   },
   "outputs": [
    {
     "data": {
      "text/html": [
       "<table class=\"data-frame\"><tr><th></th><th>Species</th><th>SepalLength_sum</th><th>SepalLength_mean</th><th>SepalWidth_sum</th><th>SepalWidth_mean</th><th>PetalLength_sum</th><th>PetalLength_mean</th><th>PetalWidth_sum</th><th>PetalWidth_mean</th><th>id_sum</th><th>id_mean</th></tr><tr><th>1</th><td>setosa</td><td>250.3</td><td>5.006</td><td>171.39999999999998</td><td>3.4279999999999995</td><td>73.1</td><td>1.462</td><td>12.300000000000002</td><td>0.24600000000000005</td><td>1275</td><td>25.5</td></tr><tr><th>2</th><td>versicolor</td><td>296.79999999999995</td><td>5.935999999999999</td><td>138.5</td><td>2.77</td><td>213.0</td><td>4.26</td><td>66.3</td><td>1.3259999999999998</td><td>3775</td><td>75.5</td></tr><tr><th>3</th><td>virginica</td><td>329.40000000000003</td><td>6.588000000000001</td><td>148.7</td><td>2.9739999999999998</td><td>277.59999999999997</td><td>5.552</td><td>101.29999999999998</td><td>2.026</td><td>6275</td><td>125.5</td></tr></table>"
      ],
      "text/plain": [
       "3x11 DataFrames.DataFrame\n",
       "| Row | Species      | SepalLength_sum | SepalLength_mean | SepalWidth_sum |\n",
       "|-----|--------------|-----------------|------------------|----------------|\n",
       "| 1   | \"setosa\"     | 250.3           | 5.006            | 171.4          |\n",
       "| 2   | \"versicolor\" | 296.8           | 5.936            | 138.5          |\n",
       "| 3   | \"virginica\"  | 329.4           | 6.588            | 148.7          |\n",
       "\n",
       "| Row | SepalWidth_mean | PetalLength_sum | PetalLength_mean | PetalWidth_sum |\n",
       "|-----|-----------------|-----------------|------------------|----------------|\n",
       "| 1   | 3.428           | 73.1            | 1.462            | 12.3           |\n",
       "| 2   | 2.77            | 213.0           | 4.26             | 66.3           |\n",
       "| 3   | 2.974           | 277.6           | 5.552            | 101.3          |\n",
       "\n",
       "| Row | PetalWidth_mean | id_sum | id_mean |\n",
       "|-----|-----------------|--------|---------|\n",
       "| 1   | 0.246           | 1275   | 25.5    |\n",
       "| 2   | 1.326           | 3775   | 75.5    |\n",
       "| 3   | 2.026           | 6275   | 125.5   |"
      ]
     },
     "execution_count": 123,
     "metadata": {},
     "output_type": "execute_result"
    }
   ],
   "source": [
    "# Средние и медианы для всех переменных с группировкой по столбцу \"Species\":\n",
    "aggregate(iris, :Species, [sum, mean])"
   ]
  },
  {
   "cell_type": "code",
   "execution_count": 124,
   "metadata": {
    "collapsed": false
   },
   "outputs": [
    {
     "name": "stdout",
     "output_type": "stream",
     "text": [
      "50\n",
      "50\n",
      "50\n"
     ]
    }
   ],
   "source": [
    "# Размер каждой из подгрупп, заданных по столбцу \"Species\":\n",
    "for subdf in groupby(iris, :Species)\n",
    "    println(size(subdf, 1))\n",
    "end"
   ]
  },
  {
   "cell_type": "markdown",
   "metadata": {},
   "source": [
    "### 2.7. Объединения таблиц\n",
    "Таблицы данных можно объединять по тем же принципам, что и таблицы SQL."
   ]
  },
  {
   "cell_type": "code",
   "execution_count": 132,
   "metadata": {
    "collapsed": false
   },
   "outputs": [
    {
     "data": {
      "text/html": [
       "<table class=\"data-frame\"><tr><th></th><th>ID</th><th>Name</th></tr><tr><th>1</th><td>1</td><td>A</td></tr><tr><th>2</th><td>2</td><td>B</td></tr></table>"
      ],
      "text/plain": [
       "2x2 DataFrames.DataFrame\n",
       "| Row | ID | Name |\n",
       "|-----|----|------|\n",
       "| 1   | 1  | \"A\"  |\n",
       "| 2   | 2  | \"B\"  |"
      ]
     },
     "execution_count": 132,
     "metadata": {},
     "output_type": "execute_result"
    }
   ],
   "source": [
    "a = DataFrame(ID = [1, 2], Name = [\"A\", \"B\"])"
   ]
  },
  {
   "cell_type": "code",
   "execution_count": 133,
   "metadata": {
    "collapsed": false
   },
   "outputs": [
    {
     "data": {
      "text/html": [
       "<table class=\"data-frame\"><tr><th></th><th>ID</th><th>Job</th></tr><tr><th>1</th><td>1</td><td>Doctor</td></tr><tr><th>2</th><td>3</td><td>Lawyer</td></tr></table>"
      ],
      "text/plain": [
       "2x2 DataFrames.DataFrame\n",
       "| Row | ID | Job      |\n",
       "|-----|----|----------|\n",
       "| 1   | 1  | \"Doctor\" |\n",
       "| 2   | 3  | \"Lawyer\" |"
      ]
     },
     "execution_count": 133,
     "metadata": {},
     "output_type": "execute_result"
    }
   ],
   "source": [
    "b = DataFrame(ID = [1, 3], Job = [\"Doctor\", \"Lawyer\"])"
   ]
  },
  {
   "cell_type": "code",
   "execution_count": 134,
   "metadata": {
    "collapsed": false
   },
   "outputs": [
    {
     "data": {
      "text/html": [
       "<table class=\"data-frame\"><tr><th></th><th>ID</th><th>Name</th><th>Job</th></tr><tr><th>1</th><td>1</td><td>A</td><td>Doctor</td></tr></table>"
      ],
      "text/plain": [
       "1x3 DataFrames.DataFrame\n",
       "| Row | ID | Name | Job      |\n",
       "|-----|----|------|----------|\n",
       "| 1   | 1  | \"A\"  | \"Doctor\" |"
      ]
     },
     "execution_count": 134,
     "metadata": {},
     "output_type": "execute_result"
    }
   ],
   "source": [
    "join(a, b, on = :ID, kind = :inner)"
   ]
  },
  {
   "cell_type": "code",
   "execution_count": 135,
   "metadata": {
    "collapsed": false
   },
   "outputs": [
    {
     "data": {
      "text/html": [
       "<table class=\"data-frame\"><tr><th></th><th>ID</th><th>Name</th><th>Job</th></tr><tr><th>1</th><td>1</td><td>A</td><td>Doctor</td></tr><tr><th>2</th><td>2</td><td>B</td><td>NA</td></tr></table>"
      ],
      "text/plain": [
       "2x3 DataFrames.DataFrame\n",
       "| Row | ID | Name | Job      |\n",
       "|-----|----|------|----------|\n",
       "| 1   | 1  | \"A\"  | \"Doctor\" |\n",
       "| 2   | 2  | \"B\"  | NA       |"
      ]
     },
     "execution_count": 135,
     "metadata": {},
     "output_type": "execute_result"
    }
   ],
   "source": [
    "join(a, b, on = :ID, kind = :left)"
   ]
  },
  {
   "cell_type": "code",
   "execution_count": 136,
   "metadata": {
    "collapsed": false
   },
   "outputs": [
    {
     "data": {
      "text/html": [
       "<table class=\"data-frame\"><tr><th></th><th>Name</th><th>ID</th><th>Job</th></tr><tr><th>1</th><td>A</td><td>1</td><td>Doctor</td></tr><tr><th>2</th><td>NA</td><td>3</td><td>Lawyer</td></tr></table>"
      ],
      "text/plain": [
       "2x3 DataFrames.DataFrame\n",
       "| Row | Name | ID | Job      |\n",
       "|-----|------|----|----------|\n",
       "| 1   | \"A\"  | 1  | \"Doctor\" |\n",
       "| 2   | NA   | 3  | \"Lawyer\" |"
      ]
     },
     "execution_count": 136,
     "metadata": {},
     "output_type": "execute_result"
    }
   ],
   "source": [
    "join(a, b, on = :ID, kind = :right)"
   ]
  },
  {
   "cell_type": "code",
   "execution_count": 137,
   "metadata": {
    "collapsed": false
   },
   "outputs": [
    {
     "data": {
      "text/html": [
       "<table class=\"data-frame\"><tr><th></th><th>ID</th><th>Name</th><th>Job</th></tr><tr><th>1</th><td>1</td><td>A</td><td>Doctor</td></tr><tr><th>2</th><td>2</td><td>B</td><td>NA</td></tr><tr><th>3</th><td>3</td><td>NA</td><td>Lawyer</td></tr></table>"
      ],
      "text/plain": [
       "3x3 DataFrames.DataFrame\n",
       "| Row | ID | Name | Job      |\n",
       "|-----|----|------|----------|\n",
       "| 1   | 1  | \"A\"  | \"Doctor\" |\n",
       "| 2   | 2  | \"B\"  | NA       |\n",
       "| 3   | 3  | NA   | \"Lawyer\" |"
      ]
     },
     "execution_count": 137,
     "metadata": {},
     "output_type": "execute_result"
    }
   ],
   "source": [
    "join(a, b, on = :ID, kind = :outer)"
   ]
  },
  {
   "cell_type": "code",
   "execution_count": 138,
   "metadata": {
    "collapsed": false
   },
   "outputs": [
    {
     "data": {
      "text/html": [
       "<table class=\"data-frame\"><tr><th></th><th>ID</th><th>Name</th></tr><tr><th>1</th><td>1</td><td>A</td></tr></table>"
      ],
      "text/plain": [
       "1x2 DataFrames.DataFrame\n",
       "| Row | ID | Name |\n",
       "|-----|----|------|\n",
       "| 1   | 1  | \"A\"  |"
      ]
     },
     "execution_count": 138,
     "metadata": {},
     "output_type": "execute_result"
    }
   ],
   "source": [
    "join(a, b, on = :ID, kind = :semi)"
   ]
  },
  {
   "cell_type": "code",
   "execution_count": 139,
   "metadata": {
    "collapsed": false
   },
   "outputs": [
    {
     "data": {
      "text/html": [
       "<table class=\"data-frame\"><tr><th></th><th>ID</th><th>Name</th></tr><tr><th>1</th><td>2</td><td>B</td></tr></table>"
      ],
      "text/plain": [
       "1x2 DataFrames.DataFrame\n",
       "| Row | ID | Name |\n",
       "|-----|----|------|\n",
       "| 1   | 2  | \"B\"  |"
      ]
     },
     "execution_count": 139,
     "metadata": {},
     "output_type": "execute_result"
    }
   ],
   "source": [
    "join(a, b, on = :ID, kind = :anti)"
   ]
  },
  {
   "cell_type": "code",
   "execution_count": 140,
   "metadata": {
    "collapsed": true
   },
   "outputs": [],
   "source": [
    "# Переименование столбцов:\n",
    "# rename!(df3, {:old_name => :new_name, :another_old_name => :another_new_name})"
   ]
  },
  {
   "cell_type": "markdown",
   "metadata": {},
   "source": [
    "### Выводы\n",
    "В пакете **DataFrames**, на первый взгляд, есть все необходимое для работы с таблицами данных. Воспроизведен функционал пакетов **dplyr** и **reshape2** для R, местами прослеживается сходство с подходами, использованными в **data.table** (например, изменение таблиц \"на месте\"). Синтаксис несложный и привычный для пользователей вышеназванных пакетов. "
   ]
  }
 ],
 "metadata": {
  "kernelspec": {
   "display_name": "Julia 0.4.3",
   "language": "julia",
   "name": "julia-0.4"
  },
  "language_info": {
   "file_extension": ".jl",
   "mimetype": "application/julia",
   "name": "julia",
   "version": "0.4.3"
  }
 },
 "nbformat": 4,
 "nbformat_minor": 0
}
