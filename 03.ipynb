{
 "cells": [
  {
   "cell_type": "markdown",
   "metadata": {},
   "source": [
    "## 3. Язык Julia: распределения\n",
    "Пакет [Distributions](https://github.com/JuliaStats/Distributions.jl) позволяет:\n",
    "\n",
    "* рассчитывать начальные и центральные моменты (среднее, дисперсию, асимметрию, эксцесс и др.), энтропию и другие параметры;\n",
    "\n",
    "* строить функции плотности веротности;\n",
    "\n",
    "* строить производящие функции моментов и характеристические функции;\n",
    "\n",
    "* делать выборки из популяций и из распределений;\n",
    "\n",
    "* подгонять параметры распределений под эмпирические данные методом максимального правдоподобия.\n",
    "\n",
    "\n",
    "Подробная [документация](http://distributionsjl.readthedocs.org/en/latest/) по пакету.\n",
    "\n",
    "Ограничимся рассмотрением простого примера с нормальным распределением."
   ]
  },
  {
   "cell_type": "code",
   "execution_count": 4,
   "metadata": {
    "collapsed": false
   },
   "outputs": [
    {
     "data": {
      "text/plain": [
       "Distributions.Normal(μ=0.0, σ=1.0)"
      ]
     },
     "execution_count": 4,
     "metadata": {},
     "output_type": "execute_result"
    }
   ],
   "source": [
    "using Distributions\n",
    "srand(123) # начальное значение (seed)\n",
    "d = Normal() # стандартное нормальное распределение"
   ]
  },
  {
   "cell_type": "code",
   "execution_count": 5,
   "metadata": {
    "collapsed": false
   },
   "outputs": [
    {
     "data": {
      "text/plain": [
       "100-element Array{Float64,1}:\n",
       "  1.19027  \n",
       "  2.04818  \n",
       "  1.14265  \n",
       "  0.459416 \n",
       " -0.396679 \n",
       " -0.664713 \n",
       "  0.980968 \n",
       " -0.0754831\n",
       "  0.273815 \n",
       " -0.194229 \n",
       " -0.339366 \n",
       " -0.843878 \n",
       " -0.888936 \n",
       "  ⋮        \n",
       " -0.733961 \n",
       "  0.459398 \n",
       "  1.70619  \n",
       "  0.678443 \n",
       "  0.28718  \n",
       "  1.06816  \n",
       " -0.306877 \n",
       " -1.92021  \n",
       "  1.6696   \n",
       " -0.213558 \n",
       " -0.163711 \n",
       " -0.902986 "
      ]
     },
     "execution_count": 5,
     "metadata": {},
     "output_type": "execute_result"
    }
   ],
   "source": [
    "# Выборка из стандартного нормального распределения:\n",
    "x = rand(d, 100)"
   ]
  },
  {
   "cell_type": "code",
   "execution_count": 6,
   "metadata": {
    "collapsed": false
   },
   "outputs": [
    {
     "data": {
      "text/plain": [
       "2-element Array{Float64,1}:\n",
       " 0.0    \n",
       " 1.64485"
      ]
     },
     "execution_count": 6,
     "metadata": {},
     "output_type": "execute_result"
    }
   ],
   "source": [
    "# Квантили стандартного нормального распределения:\n",
    "quantile(Normal(), [0.5, 0.95])"
   ]
  },
  {
   "cell_type": "code",
   "execution_count": 8,
   "metadata": {
    "collapsed": false
   },
   "outputs": [
    {
     "data": {
      "text/plain": [
       "100-element Array{Float64,1}:\n",
       "  1.69318 \n",
       "  4.20863 \n",
       "  0.950682\n",
       "  0.787929\n",
       " -1.58236 \n",
       "  0.32403 \n",
       "  0.645815\n",
       "  2.14998 \n",
       " -1.75667 \n",
       " -0.735738\n",
       "  0.199849\n",
       "  1.59017 \n",
       "  2.63539 \n",
       "  ⋮       \n",
       " -0.236094\n",
       " -1.17054 \n",
       "  1.8048  \n",
       "  1.85074 \n",
       " -1.37859 \n",
       "  1.23262 \n",
       " -1.68995 \n",
       "  1.85268 \n",
       " -0.567251\n",
       "  2.29687 \n",
       "  0.646891\n",
       " -1.55847 "
      ]
     },
     "execution_count": 8,
     "metadata": {},
     "output_type": "execute_result"
    }
   ],
   "source": [
    "# Нормальное распределение со средним 1 и дисперсией 2:\n",
    "rand(Normal(1, 2), 100)"
   ]
  },
  {
   "cell_type": "code",
   "execution_count": 9,
   "metadata": {
    "collapsed": false
   },
   "outputs": [
    {
     "data": {
      "text/plain": [
       "Distributions.Normal(μ=0.036692077201688635, σ=1.1228280164716382)"
      ]
     },
     "execution_count": 9,
     "metadata": {},
     "output_type": "execute_result"
    }
   ],
   "source": [
    "# Подгонка параметров распределения:\n",
    "fit(Normal, x)"
   ]
  }
 ],
 "metadata": {
  "kernelspec": {
   "display_name": "Julia 0.4.3",
   "language": "julia",
   "name": "julia-0.4"
  },
  "language_info": {
   "file_extension": ".jl",
   "mimetype": "application/julia",
   "name": "julia",
   "version": "0.4.3"
  }
 },
 "nbformat": 4,
 "nbformat_minor": 0
}
