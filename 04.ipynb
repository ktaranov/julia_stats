{
 "cells": [
  {
   "cell_type": "markdown",
   "metadata": {},
   "source": [
    "## Язык Julia: статистические критерии (проверка гипотез)\n",
    "Язык Julia в настоящий момент сильно уступает R по количеству реализованных статистических критериев. Мне не удалось найти даже реализацию одномерного критерия Шапиро-Уилка, не говоря уже о вещах типа http://www.inside-r.org/packages/cran/MVN/docs/HZ.test. Тем не менее, имеются критерии Стьюдента, Уилкоксона-Манна-Уитни, точный критерий Фишера и некоторые другие классические критерии. Реализованы они в пакете [HypothesisTests](https://github.com/JuliaStats/HypothesisTests.jl) ([документация](http://hypothesistestsjl.readthedocs.org/en/latest/index.html)).\n",
    "\n",
    "Выполним сравнение при помощи критерия Стьюдента для случая, когда равенство дисперсий не предполагается (модификация Уэлча):"
   ]
  },
  {
   "cell_type": "code",
   "execution_count": 20,
   "metadata": {
    "collapsed": false
   },
   "outputs": [
    {
     "data": {
      "text/plain": [
       "Two sample t-test (unequal variance)\n",
       "------------------------------------\n",
       "Population details:\n",
       "    parameter of interest:   Mean difference\n",
       "    value under h_0:         0\n",
       "    point estimate:          2.7859999999999983\n",
       "    95% confidence interval: (2.6354403195191067,2.9365596804808898)\n",
       "\n",
       "Test summary:\n",
       "    outcome with 95% confidence: reject h_0\n",
       "    two-sided p-value:           1.4595425075862512e-96 (extremely significant)\n",
       "\n",
       "Details:\n",
       "    number of observations:   [150,150]\n",
       "    t-statistic:              36.4632839344491\n",
       "    degrees of freedom:       225.67831770187826\n",
       "    empirical standard error: 0.07640562503938086\n"
      ]
     },
     "execution_count": 20,
     "metadata": {},
     "output_type": "execute_result"
    }
   ],
   "source": [
    "using HypothesisTests, DataFrames, RDatasets\n",
    "iris = dataset(\"datasets\", \"iris\")\n",
    "t_test = UnequalVarianceTTest(iris[1], iris[2])"
   ]
  },
  {
   "cell_type": "markdown",
   "metadata": {},
   "source": [
    "Для извлечения p-значения служит функция `pvalue`:"
   ]
  },
  {
   "cell_type": "code",
   "execution_count": 10,
   "metadata": {
    "collapsed": false
   },
   "outputs": [
    {
     "data": {
      "text/plain": [
       "1.4595425075862512e-96"
      ]
     },
     "execution_count": 10,
     "metadata": {},
     "output_type": "execute_result"
    }
   ],
   "source": [
    "pvalue(t_test)"
   ]
  },
  {
   "cell_type": "markdown",
   "metadata": {},
   "source": [
    "Доверительный интервал (в данном случае для разности средних) можно построить при помощи функции `ci`:"
   ]
  },
  {
   "cell_type": "code",
   "execution_count": 33,
   "metadata": {
    "collapsed": false
   },
   "outputs": [
    {
     "data": {
      "text/plain": [
       "(2.6354403195191067,2.9365596804808898)"
      ]
     },
     "execution_count": 33,
     "metadata": {},
     "output_type": "execute_result"
    }
   ],
   "source": [
    "ci(UnequalVarianceTTest(iris[1], iris[2]), tail=:both)"
   ]
  },
  {
   "cell_type": "markdown",
   "metadata": {},
   "source": [
    "По непонятным причинам не удается использовать аргумент `alpha`, чтобы указать требуемый уровень значимости.\n",
    "\n",
    "По аналогии можно воспользоваться другими критериями, например:"
   ]
  },
  {
   "cell_type": "code",
   "execution_count": 35,
   "metadata": {
    "collapsed": false
   },
   "outputs": [
    {
     "data": {
      "text/plain": [
       "Approximate Mann-Whitney U test\n",
       "-------------------------------\n",
       "Population details:\n",
       "    parameter of interest:   Location parameter (pseudomedian)\n",
       "    value under h_0:         0\n",
       "    point estimate:          2.8\n",
       "\n",
       "Test summary:\n",
       "    outcome with 95% confidence: reject h_0\n",
       "    two-sided p-value:           9.812123178858594e-51 (extremely significant)\n",
       "\n",
       "Details:\n",
       "    number of observations in each group: [150,150]\n",
       "    Mann-Whitney-U statistic:             22497.5\n",
       "    rank sums:                            [33822.5,11327.5]\n",
       "    adjustment for ties:                  34842.0\n",
       "    normal approximation (μ, σ):          (11247.5,750.7640756751849)\n"
      ]
     },
     "execution_count": 35,
     "metadata": {},
     "output_type": "execute_result"
    }
   ],
   "source": [
    "MannWhitneyUTest(iris[1], iris[2])"
   ]
  },
  {
   "cell_type": "markdown",
   "metadata": {},
   "source": [
    "Для точного критерия Фишера нужно задать непосредственно значения таблицы сопряженности. Критерий Фишера-Фримена-Гальтона (обобщение точного критерия Фишера для таблиц размером больше 2х2) не реализован."
   ]
  },
  {
   "cell_type": "code",
   "execution_count": 36,
   "metadata": {
    "collapsed": false
   },
   "outputs": [
    {
     "data": {
      "text/plain": [
       "Fisher's exact test\n",
       "-------------------\n",
       "Population details:\n",
       "    parameter of interest:   Odds ratio\n",
       "    value under h_0:         1.0\n",
       "    point estimate:          0.5992973050097158\n",
       "    95% confidence interval: (0.039058381022614184,6.9366062328716955)\n",
       "\n",
       "Test summary:\n",
       "    outcome with 95% confidence: fail to reject h_0\n",
       "    two-sided p-value:           0.9999999999999999 (not significant)\n",
       "\n",
       "Details:\n",
       "    contingency table:\n",
       "        2  8\n",
       "        3  7\n"
      ]
     },
     "execution_count": 36,
     "metadata": {},
     "output_type": "execute_result"
    }
   ],
   "source": [
    "FisherExactTest(2, 8, 3, 7)"
   ]
  },
  {
   "cell_type": "markdown",
   "metadata": {},
   "source": [
    "### Выводы\n",
    "В качестве среды для выполнения классического статистического анализа (с проверками разных предпосылок и применением именных критериев) Julia пока что выглядит не очень впечатляющие. Забегая вперед, скажу, что с машинным обучением дела обстоят гораздо лучше: реализованы сами алгоритмы, способы оценки качества (типа ROC-кривых), кросс-валидация и подбор гиперпараметров."
   ]
  }
 ],
 "metadata": {
  "kernelspec": {
   "display_name": "Julia 0.4.5",
   "language": "julia",
   "name": "julia-0.4"
  },
  "language_info": {
   "file_extension": ".jl",
   "mimetype": "application/julia",
   "name": "julia",
   "version": "0.4.5"
  }
 },
 "nbformat": 4,
 "nbformat_minor": 0
}
