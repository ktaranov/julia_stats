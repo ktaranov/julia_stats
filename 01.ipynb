{
 "cells": [
  {
   "cell_type": "markdown",
   "metadata": {},
   "source": [
    "## 1. Язык Julia: установка пакетов; загрузка и сохранение данных"
   ]
  },
  {
   "cell_type": "markdown",
   "metadata": {},
   "source": [
    "### 1.1. Установка и использование пакетов\n",
    "\n",
    "Дополнительный функционал в языке Julia реализован с помощью [пакетов](http://pkg.julialang.org/), которые хранятся на GitHub и устанавливаются с помощью специальной функции `Pkg.add()` в интерпретаторе (совсем как в R и совсем не как в Python). Обновляются пакеты командой `Pkg.update()`; список можно увидеть при помощи `Pkg.add`, папку для установки - при помощи `Pkg.dir()`. Ниже все эти команды закомментированы, чтобы не занимать место их объемным выводом. Кстати, комментарии создаются вполне привычным образом.\n",
    "\n",
    "Чтобы использовать пакет, его нужно подключить при помощи команды `using package`, где `package` - название пакета без кавычек. Обратите внимание: кавычки были нужны только при установке пакета. При первом использовании пакета будет выполнена компиляция, которая займет какое-то время.\n",
    "\n",
    "Чтобы прочитать справку по пакету, используем команду `?package`, например `?DataFrames`. По функциям/методам - аналогично, например, `?DataFrames.head` или `?head`."
   ]
  },
  {
   "cell_type": "code",
   "execution_count": 61,
   "metadata": {
    "collapsed": false
   },
   "outputs": [],
   "source": [
    "# Установка пакетов\n",
    "# Pkg.add(\"DataFrames\") # работа с таблицами\n",
    "# Pkg.add(\"ExcelReaders\") # чтение xlsx\n",
    "# Pkg.add(\"HypothesisTests\") # проверка гипотез\n",
    "# Pkg.add(\"Requests\") # HTTP-клиент\n",
    "# Pkg.add(\"SQLite\") # взаимодейтсвие с SQLite"
   ]
  },
  {
   "cell_type": "code",
   "execution_count": 62,
   "metadata": {
    "collapsed": false
   },
   "outputs": [],
   "source": [
    "# Pkg.update() # обновление пакетов\n",
    "# Pkg.status() # информация об установленных пакетах\n",
    "# Pkg.dir() # папка для установки пакетов"
   ]
  },
  {
   "cell_type": "code",
   "execution_count": 2,
   "metadata": {
    "collapsed": true
   },
   "outputs": [],
   "source": [
    "# Подключение пакетов\n",
    "using DataFrames"
   ]
  },
  {
   "cell_type": "code",
   "execution_count": 3,
   "metadata": {
    "collapsed": false
   },
   "outputs": [
    {
     "name": "stdout",
     "output_type": "stream",
     "text": [
      "search:"
     ]
    },
    {
     "data": {
      "text/latex": [
       "Show the first or last part of an AbstractDataFrame\n",
       "\\begin{verbatim}\n",
       "head(df::AbstractDataFrame, r::Int = 6)\n",
       "tail(df::AbstractDataFrame, r::Int = 6)\n",
       "\\end{verbatim}\n",
       "\\subsubsection{Arguments}\n",
       "\\begin{itemize}\n",
       "\\item \\texttt{df} : the AbstractDataFrame\n",
       "\\item \\texttt{r} : the number of rows to show\n",
       "\\end{itemize}\n",
       "\\subsubsection{Result}\n",
       "\\begin{itemize}\n",
       "\\item \\texttt{::AbstractDataFrame} : the first or last part of \\texttt{df}\n",
       "\\end{itemize}\n",
       "\\subsubsection{Examples}\n",
       "\\begin{verbatim}\n",
       "df = DataFrame(i = 1:10, x = rand(10), y = rand([\"a\", \"b\", \"c\"], 10))\n",
       "head(df)\n",
       "tail(df)\n",
       "\\end{verbatim}\n"
      ],
      "text/markdown": [
       "Show the first or last part of an AbstractDataFrame\n",
       "\n",
       "```julia\n",
       "head(df::AbstractDataFrame, r::Int = 6)\n",
       "tail(df::AbstractDataFrame, r::Int = 6)\n",
       "```\n",
       "\n",
       "### Arguments\n",
       "\n",
       "  * `df` : the AbstractDataFrame\n",
       "  * `r` : the number of rows to show\n",
       "\n",
       "### Result\n",
       "\n",
       "  * `::AbstractDataFrame` : the first or last part of `df`\n",
       "\n",
       "### Examples\n",
       "\n",
       "```julia\n",
       "df = DataFrame(i = 1:10, x = rand(10), y = rand([\"a\", \"b\", \"c\"], 10))\n",
       "head(df)\n",
       "tail(df)\n",
       "```\n"
      ],
      "text/plain": [
       "Show the first or last part of an AbstractDataFrame\n",
       "\n",
       "```julia\n",
       "head(df::AbstractDataFrame, r::Int = 6)\n",
       "tail(df::AbstractDataFrame, r::Int = 6)\n",
       "```\n",
       "\n",
       "### Arguments\n",
       "\n",
       "  * `df` : the AbstractDataFrame\n",
       "  * `r` : the number of rows to show\n",
       "\n",
       "### Result\n",
       "\n",
       "  * `::AbstractDataFrame` : the first or last part of `df`\n",
       "\n",
       "### Examples\n",
       "\n",
       "```julia\n",
       "df = DataFrame(i = 1:10, x = rand(10), y = rand([\"a\", \"b\", \"c\"], 10))\n",
       "head(df)\n",
       "tail(df)\n",
       "```\n"
      ]
     },
     "execution_count": 3,
     "metadata": {},
     "output_type": "execute_result"
    },
    {
     "name": "stdout",
     "output_type": "stream",
     "text": [
      " head blas_set_num_threads hessfact hessfact! SharedArray EachReplaceNA\n",
      "\n"
     ]
    }
   ],
   "source": [
    "?head"
   ]
  },
  {
   "cell_type": "markdown",
   "metadata": {},
   "source": [
    "### 1.2. Чтение данных с диска"
   ]
  },
  {
   "cell_type": "markdown",
   "metadata": {},
   "source": [
    "[**DataFrames**](https://github.com/JuliaStats/DataFrames.jl)\n",
    "\n",
    "Основной пакет для чтения/записи данных с диска, а также для манипуляций с данными. \n",
    "Аналог базовых таблиц `data.frame` и пакета *dplyr* в R (или *Pandas* в Python).\n",
    "\n",
    "Имеется подробная [документация](http://dataframesjl.readthedocs.org/en/latest/).\n",
    "\n",
    "В этом разделе рассмотрим простейший пример использования - чтение данных из .csv при помощи функции `readtable`."
   ]
  },
  {
   "cell_type": "code",
   "execution_count": 17,
   "metadata": {
    "collapsed": false
   },
   "outputs": [
    {
     "data": {
      "text/html": [
       "<table class=\"data-frame\"><tr><th></th><th>Who_manufactured_the_car_</th><th>Model</th><th>Colour</th><th>Price_that_we_bought_the_car_for</th><th>Price_that_we_will_sell_the_car_for</th><th>Year</th><th>Extras</th><th>Does_the_car_need_cleaning_</th></tr><tr><th>1</th><td>TVR</td><td>Tuscan</td><td>Black</td><td>18000</td><td>20305</td><td>2006</td><td>Alloy Wheels   Air Conditioning</td><td>N</td></tr><tr><th>2</th><td>Mercedes</td><td>C200</td><td>Silver</td><td>4995</td><td>5995</td><td>2003</td><td>Air Conditioning</td><td>N</td></tr><tr><th>3</th><td>Toyota</td><td>MR2 roadster</td><td>Electric blue</td><td>13995</td><td>15895</td><td>2005</td><td>Leather Seats   Air Conditioning</td><td>N</td></tr><tr><th>4</th><td>BMW</td><td>Z3</td><td>Metallic black</td><td>4665</td><td>5635</td><td>2000</td><td>Alloy Wheels</td><td>N</td></tr><tr><th>5</th><td>Toyota</td><td>Celica</td><td>Red</td><td>21995</td><td>24695</td><td>2008</td><td>Air Conditioning   Alloy Wheels</td><td>Y</td></tr><tr><th>6</th><td>Audi</td><td>TT</td><td>Black</td><td>15495</td><td>17545</td><td>2007</td><td>Central Locking   Leather Seats   Alloy Wheels</td><td>N</td></tr></table>"
      ],
      "text/plain": [
       "6x8 DataFrames.DataFrame\n",
       "| Row | Who_manufactured_the_car_ | Model          | Colour           |\n",
       "|-----|---------------------------|----------------|------------------|\n",
       "| 1   | \"TVR\"                     | \"Tuscan\"       | \"Black\"          |\n",
       "| 2   | \"Mercedes\"                | \"C200\"         | \"Silver\"         |\n",
       "| 3   | \"Toyota\"                  | \"MR2 roadster\" | \"Electric blue\"  |\n",
       "| 4   | \"BMW\"                     | \"Z3\"           | \"Metallic black\" |\n",
       "| 5   | \"Toyota\"                  | \"Celica\"       | \"Red\"            |\n",
       "| 6   | \"Audi\"                    | \"TT\"           | \"Black\"          |\n",
       "\n",
       "| Row | Price_that_we_bought_the_car_for | Price_that_we_will_sell_the_car_for |\n",
       "|-----|----------------------------------|-------------------------------------|\n",
       "| 1   | 18000                            | 20305                               |\n",
       "| 2   | 4995                             | 5995                                |\n",
       "| 3   | 13995                            | 15895                               |\n",
       "| 4   | 4665                             | 5635                                |\n",
       "| 5   | 21995                            | 24695                               |\n",
       "| 6   | 15495                            | 17545                               |\n",
       "\n",
       "| Row | Year | Extras                                           |\n",
       "|-----|------|--------------------------------------------------|\n",
       "| 1   | 2006 | \"Alloy Wheels   Air Conditioning\"                |\n",
       "| 2   | 2003 | \"Air Conditioning\"                               |\n",
       "| 3   | 2005 | \"Leather Seats   Air Conditioning\"               |\n",
       "| 4   | 2000 | \"Alloy Wheels\"                                   |\n",
       "| 5   | 2008 | \"Air Conditioning   Alloy Wheels\"                |\n",
       "| 6   | 2007 | \"Central Locking   Leather Seats   Alloy Wheels\" |\n",
       "\n",
       "| Row | Does_the_car_need_cleaning_ |\n",
       "|-----|-----------------------------|\n",
       "| 1   | \"N\"                         |\n",
       "| 2   | \"N\"                         |\n",
       "| 3   | \"N\"                         |\n",
       "| 4   | \"N\"                         |\n",
       "| 5   | \"Y\"                         |\n",
       "| 6   | \"N\"                         |"
      ]
     },
     "execution_count": 17,
     "metadata": {},
     "output_type": "execute_result"
    }
   ],
   "source": [
    "using DataFrames\n",
    "df = readtable(\"data/cars.csv\", separator = ',', header = true); # \";\" подавляет вывод таблицы\n",
    "head(df)"
   ]
  },
  {
   "cell_type": "markdown",
   "metadata": {},
   "source": [
    "[**ExcelReaders**](https://github.com/davidanthoff/ExcelReaders.jl)\n",
    "\n",
    "Этот пакет позволяет читать данные из файлов .xlsx; для работы требуется Python-овская библиотека *xlrd*, которая входит в состав дистрибутива Anaconda. \n",
    "\n",
    "Воспользуемся удобной возможностью чтения напрямую в объект типа `DataFrame`, указав в вызове функции имя листа и диапазон ячеек со значениями."
   ]
  },
  {
   "cell_type": "code",
   "execution_count": 16,
   "metadata": {
    "collapsed": false
   },
   "outputs": [
    {
     "data": {
      "text/html": [
       "<table class=\"data-frame\"><tr><th></th><th>Группа</th><th>Возраст</th><th>Вес</th></tr><tr><th>1</th><td>1.0</td><td>23.0</td><td>65.0</td></tr><tr><th>2</th><td>1.0</td><td>25.0</td><td>70.0</td></tr><tr><th>3</th><td>1.0</td><td>30.0</td><td>71.0</td></tr><tr><th>4</th><td>1.0</td><td>31.0</td><td>80.0</td></tr><tr><th>5</th><td>1.0</td><td>32.0</td><td>82.0</td></tr><tr><th>6</th><td>2.0</td><td>24.0</td><td>77.0</td></tr><tr><th>7</th><td>2.0</td><td>24.0</td><td>90.0</td></tr><tr><th>8</th><td>2.0</td><td>41.0</td><td>77.0</td></tr><tr><th>9</th><td>2.0</td><td>30.0</td><td>80.0</td></tr><tr><th>10</th><td>2.0</td><td>28.0</td><td>81.0</td></tr><tr><th>11</th><td>2.0</td><td>29.0</td><td>82.0</td></tr></table>"
      ],
      "text/plain": [
       "11x3 DataFrames.DataFrame\n",
       "| Row | Группа | Возраст | Вес  |\n",
       "|-----|--------|---------|------|\n",
       "| 1   | 1.0    | 23.0    | 65.0 |\n",
       "| 2   | 1.0    | 25.0    | 70.0 |\n",
       "| 3   | 1.0    | 30.0    | 71.0 |\n",
       "| 4   | 1.0    | 31.0    | 80.0 |\n",
       "| 5   | 1.0    | 32.0    | 82.0 |\n",
       "| 6   | 2.0    | 24.0    | 77.0 |\n",
       "| 7   | 2.0    | 24.0    | 90.0 |\n",
       "| 8   | 2.0    | 41.0    | 77.0 |\n",
       "| 9   | 2.0    | 30.0    | 80.0 |\n",
       "| 10  | 2.0    | 28.0    | 81.0 |\n",
       "| 11  | 2.0    | 29.0    | 82.0 |"
      ]
     },
     "execution_count": 16,
     "metadata": {},
     "output_type": "execute_result"
    }
   ],
   "source": [
    "using ExcelReaders\n",
    "df_excel = readxl(DataFrame, \"data/test_excel.xlsx\", \"Лист1!A1:C12\"); \n",
    "df_excel"
   ]
  },
  {
   "cell_type": "markdown",
   "metadata": {},
   "source": [
    "### 1.3. Запись данных в файл на диске\n",
    "\n",
    "Используем функцию `writetable()` из пакета *DataFrames*:"
   ]
  },
  {
   "cell_type": "code",
   "execution_count": 67,
   "metadata": {
    "collapsed": false
   },
   "outputs": [],
   "source": [
    "df_out = DataFrame(A = 1:4, B = [\"M\", \"F\", \"F\", \"M\"])\n",
    "\n",
    "writetable(\"data/output.csv\", df_out, separator = ';', header = true)"
   ]
  },
  {
   "cell_type": "markdown",
   "metadata": {},
   "source": [
    "### 1.4. Загрузка данных из интернета\n",
    "\n",
    "[**Requests**](https://github.com/JuliaWeb/Requests.jl)\n",
    "\n",
    "HTTP-клиент. Сначала выполняем запрос `get` при помощи одноименной функции, затем передаем данные на вход функции `readtable()` через буфер ввода-вывода `IOBuffer()`."
   ]
  },
  {
   "cell_type": "code",
   "execution_count": 64,
   "metadata": {
    "collapsed": false
   },
   "outputs": [
    {
     "data": {
      "text/html": [
       "<table class=\"data-frame\"><tr><th></th><th>Transaction_date</th><th>Product</th><th>Price</th><th>Payment_Type</th><th>Name</th><th>City</th><th>State</th><th>Country</th><th>Account_Created</th><th>Last_Login</th><th>Latitude</th><th>Longitude</th></tr><tr><th>1</th><td>1/2/09 6:17</td><td>Product1</td><td>1200</td><td>Mastercard</td><td>carolina</td><td>Basildon</td><td>England</td><td>United Kingdom</td><td>1/2/09 6:00</td><td>1/2/09 6:08</td><td>51.5</td><td>-1.1166667</td></tr><tr><th>2</th><td>1/2/09 4:53</td><td>Product1</td><td>1200</td><td>Visa</td><td>Betina</td><td>Parkville</td><td>MO</td><td>United States</td><td>1/2/09 4:42</td><td>1/2/09 7:49</td><td>39.195</td><td>-94.68194</td></tr><tr><th>3</th><td>1/2/09 13:08</td><td>Product1</td><td>1200</td><td>Mastercard</td><td>Federica e Andrea</td><td>Astoria</td><td>OR</td><td>United States</td><td>1/1/09 16:21</td><td>1/3/09 12:32</td><td>46.18806</td><td>-123.83</td></tr><tr><th>4</th><td>1/3/09 14:44</td><td>Product1</td><td>1200</td><td>Visa</td><td>Gouya</td><td>Echuca</td><td>Victoria</td><td>Australia</td><td>9/25/05 21:13</td><td>1/3/09 14:22</td><td>-36.1333333</td><td>144.75</td></tr><tr><th>5</th><td>1/4/09 12:56</td><td>Product2</td><td>3600</td><td>Visa</td><td>Gerd W</td><td>Cahaba Heights</td><td>AL</td><td>United States</td><td>11/15/08 15:47</td><td>1/4/09 12:45</td><td>33.52056</td><td>-86.8025</td></tr><tr><th>6</th><td>1/4/09 13:19</td><td>Product1</td><td>1200</td><td>Visa</td><td>LAURENCE</td><td>Mickleton</td><td>NJ</td><td>United States</td><td>9/24/08 15:19</td><td>1/4/09 13:04</td><td>39.79</td><td>-75.23806</td></tr></table>"
      ],
      "text/plain": [
       "6x12 DataFrames.DataFrame\n",
       "| Row | Transaction_date | Product    | Price  | Payment_Type |\n",
       "|-----|------------------|------------|--------|--------------|\n",
       "| 1   | \"1/2/09 6:17\"    | \"Product1\" | \"1200\" | \"Mastercard\" |\n",
       "| 2   | \"1/2/09 4:53\"    | \"Product1\" | \"1200\" | \"Visa\"       |\n",
       "| 3   | \"1/2/09 13:08\"   | \"Product1\" | \"1200\" | \"Mastercard\" |\n",
       "| 4   | \"1/3/09 14:44\"   | \"Product1\" | \"1200\" | \"Visa\"       |\n",
       "| 5   | \"1/4/09 12:56\"   | \"Product2\" | \"3600\" | \"Visa\"       |\n",
       "| 6   | \"1/4/09 13:19\"   | \"Product1\" | \"1200\" | \"Visa\"       |\n",
       "\n",
       "| Row | Name                | City             | State      | Country          |\n",
       "|-----|---------------------|------------------|------------|------------------|\n",
       "| 1   | \"carolina\"          | \"Basildon\"       | \"England\"  | \"United Kingdom\" |\n",
       "| 2   | \"Betina\"            | \"Parkville\"      | \"MO\"       | \"United States\"  |\n",
       "| 3   | \"Federica e Andrea\" | \"Astoria\"        | \"OR\"       | \"United States\"  |\n",
       "| 4   | \"Gouya\"             | \"Echuca\"         | \"Victoria\" | \"Australia\"      |\n",
       "| 5   | \"Gerd W\"            | \"Cahaba Heights\" | \"AL\"       | \"United States\"  |\n",
       "| 6   | \"LAURENCE\"          | \"Mickleton\"      | \"NJ\"       | \"United States\"  |\n",
       "\n",
       "| Row | Account_Created  | Last_Login     | Latitude | Longitude |\n",
       "|-----|------------------|----------------|----------|-----------|\n",
       "| 1   | \"1/2/09 6:00\"    | \"1/2/09 6:08\"  | 51.5     | -1.11667  |\n",
       "| 2   | \"1/2/09 4:42\"    | \"1/2/09 7:49\"  | 39.195   | -94.6819  |\n",
       "| 3   | \"1/1/09 16:21\"   | \"1/3/09 12:32\" | 46.1881  | -123.83   |\n",
       "| 4   | \"9/25/05 21:13\"  | \"1/3/09 14:22\" | -36.1333 | 144.75    |\n",
       "| 5   | \"11/15/08 15:47\" | \"1/4/09 12:45\" | 33.5206  | -86.8025  |\n",
       "| 6   | \"9/24/08 15:19\"  | \"1/4/09 13:04\" | 39.79    | -75.2381  |"
      ]
     },
     "execution_count": 64,
     "metadata": {},
     "output_type": "execute_result"
    }
   ],
   "source": [
    "using Requests\n",
    "import Requests: get, post, put, delete, options\n",
    "\n",
    "res = get(\"http://samplecsvs.s3.amazonaws.com/SalesJan2009.csv\");\n",
    "mycsv = readtable(IOBuffer(res.data));\n",
    "head(mycsv)"
   ]
  },
  {
   "cell_type": "markdown",
   "metadata": {},
   "source": [
    "### 1.5. Взаимодействие с базами данных\n",
    "\n",
    "[SQLite](https://github.com/JuliaDB/SQLite.jl)\n",
    "\n",
    "Пока что заставить работать не получилось."
   ]
  },
  {
   "cell_type": "markdown",
   "metadata": {},
   "source": [
    "### Полезные ссылки:\n",
    "\n",
    "[Наборы данных](http://perso.telecom-paristech.fr/~eagan/class/as2013/inf229/labs/datasets)"
   ]
  }
 ],
 "metadata": {
  "kernelspec": {
   "display_name": "Julia 0.4.5",
   "language": "julia",
   "name": "julia-0.4"
  },
  "language_info": {
   "file_extension": ".jl",
   "mimetype": "application/julia",
   "name": "julia",
   "version": "0.4.5"
  }
 },
 "nbformat": 4,
 "nbformat_minor": 0
}
